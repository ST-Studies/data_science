{
 "cells": [
  {
   "cell_type": "code",
   "execution_count": 1,
   "metadata": {},
   "outputs": [],
   "source": [
    "import pandas as pd"
   ]
  },
  {
   "cell_type": "code",
   "execution_count": 9,
   "metadata": {},
   "outputs": [],
   "source": [
    "data = pd.read_csv(\"../creditcard.csv\")\n",
    "data = pd.DataFrame(data)"
   ]
  },
  {
   "cell_type": "code",
   "execution_count": 12,
   "metadata": {},
   "outputs": [
    {
     "name": "stdout",
     "output_type": "stream",
     "text": [
      "Número de transações:  284807\n",
      "Número de fraudes:  492 0.1727485630620034\n",
      "Número de transações normais 284315 99.82725143693798\n"
     ]
    }
   ],
   "source": [
    "# data.isna().sum() = Conta a quantidade de valores NAN\n",
    "\n",
    "n_transacoes = data['Class'].count()\n",
    "n_fraudes = data['Class'].sum()\n",
    "n_normais = n_transacoes - n_fraudes\n",
    "fraudes_porc = n_fraudes / n_transacoes\n",
    "nomais_porc = n_normais / n_transacoes\n",
    "\n",
    "# \"%.2f\" %(fraudes_porc*100) = Deixa o resultado com 2 casas decimais\n",
    "\n",
    "print(\"Número de transações: \", n_transacoes)\n",
    "print(\"Número de fraudes: \", n_fraudes, \"%.2f\" %(fraudes_porc*100))\n",
    "print(\"Número de transações normais\", n_normais, \"%.2f\" %(nomais_porc*100))"
   ]
  },
  {
   "cell_type": "code",
   "execution_count": 24,
   "metadata": {},
   "outputs": [],
   "source": [
    "from sklearn.model_selection import StratifiedShuffleSplit\n",
    "\n",
    "def executar_validador(x, y):\n",
    "    validador = StratifiedShuffleSplit(n_splits=1, test_size=0.1, random_state=0)\n",
    "\n",
    "    for treino_id , teste_id in validador.split(x, y):\n",
    "        x_train, x_test = x[treino_id], x[teste_id]\n",
    "        y_train, y_test = y[treino_id], y[teste_id]\n",
    "\n",
    "    return x_train, x_test, y_train, y_test"
   ]
  },
  {
   "cell_type": "code",
   "execution_count": 25,
   "metadata": {},
   "outputs": [
    {
     "name": "stdout",
     "output_type": "stream",
     "text": [
      "CPU times: total: 0 ns\n",
      "Wall time: 1 ms\n"
     ]
    }
   ],
   "source": [
    "%%time\n",
    "from sklearn import tree\n",
    "\n",
    "def executar_classificador(classificador, x_train, x_test, y_train):\n",
    "    arvore = classificador.fit(x_train, y_train)\n",
    "    y_pred = arvore.predict(x_test)\n",
    "    return y_pred"
   ]
  },
  {
   "cell_type": "code",
   "execution_count": 26,
   "metadata": {},
   "outputs": [],
   "source": [
    "x = data.drop('Class', axis=1).values\n",
    "y = data['Class'].values\n",
    "\n",
    "x_train, x_test, y_train, y_test = executar_validador(x, y)\n",
    "\n",
    "classificador_arvore_decisao = tree.DecisionTreeClassifier()\n",
    "y_pred_arvore_decisao = executar_classificador(classificador_arvore_decisao, x_train, x_test, y_train)\n"
   ]
  }
 ],
 "metadata": {
  "kernelspec": {
   "display_name": "envi",
   "language": "python",
   "name": "python3"
  },
  "language_info": {
   "codemirror_mode": {
    "name": "ipython",
    "version": 3
   },
   "file_extension": ".py",
   "mimetype": "text/x-python",
   "name": "python",
   "nbconvert_exporter": "python",
   "pygments_lexer": "ipython3",
   "version": "3.12.4"
  }
 },
 "nbformat": 4,
 "nbformat_minor": 2
}
